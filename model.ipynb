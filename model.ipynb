{
 "cells": [
  {
   "cell_type": "code",
   "execution_count": null,
   "metadata": {},
   "outputs": [],
   "source": [
    "# model.py\n",
    "\n",
    "import pandas as pd\n",
    "from sklearn.model_selection import train_test_split\n",
    "from sklearn.ensemble import RandomForestRegressor\n",
    "import joblib\n"
   ]
  },
  {
   "cell_type": "code",
   "execution_count": null,
   "metadata": {},
   "outputs": [],
   "source": [
    "\n",
    "# Load data\n",
    "def load_data(file_path='student_performance.csv'):\n",
    "    data = pd.read_csv(file_path)\n",
    "    return data\n",
    "\n",
    "# Preprocess data\n",
    "def preprocess_data(data):\n",
    "    X = data.drop('final_grade', axis=1)  # Assuming 'final_grade' is the target column\n",
    "    y = data['final_grade']\n",
    "    X_train, X_test, y_train, y_test = train_test_split(X, y, test_size=0.2, random_state=42)\n",
    "    return X_train, X_test, y_train, y_test\n",
    "\n",
    "# Train model\n",
    "def train_model(X_train, y_train):\n",
    "    model = RandomForestRegressor()\n",
    "    model.fit(X_train, y_train)\n",
    "    return model\n",
    "\n",
    "# Save model\n",
    "def save_model(model, filename='student_performance_model.pkl'):\n",
    "    joblib.dump(model, filename)\n",
    "\n",
    "# Load model\n",
    "def load_model(filename='student_performance_model.pkl'):\n",
    "    return joblib.load(filename)\n"
   ]
  },
  {
   "cell_type": "code",
   "execution_count": null,
   "metadata": {},
   "outputs": [],
   "source": [
    "\n",
    "if __name__ == '__main__':\n",
    "    # Example usage\n",
    "    data = load_data()\n",
    "    X_train, X_test, y_train, y_test = preprocess_data(data)\n",
    "    model = train_model(X_train, y_train)\n",
    "    save_model(model)\n",
    "    print(\"Model training complete and saved to 'student_performance_model.pkl'\")\n"
   ]
  },
  {
   "cell_type": "code",
   "execution_count": null,
   "metadata": {},
   "outputs": [],
   "source": []
  }
 ],
 "metadata": {
  "language_info": {
   "name": "python"
  }
 },
 "nbformat": 4,
 "nbformat_minor": 2
}
